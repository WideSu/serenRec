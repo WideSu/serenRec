{
  "nbformat": 4,
  "nbformat_minor": 0,
  "metadata": {
    "colab": {
      "name": "SKNN_Test.ipynb",
      "provenance": [],
      "collapsed_sections": [],
      "authorship_tag": "ABX9TyOJ2Xr5ziryCMjWW2v8B6Q5",
      "include_colab_link": true
    },
    "kernelspec": {
      "name": "python3",
      "display_name": "Python 3"
    },
    "language_info": {
      "name": "python"
    }
  },
  "cells": [
    {
      "cell_type": "markdown",
      "metadata": {
        "id": "view-in-github",
        "colab_type": "text"
      },
      "source": [
        "<a href=\"https://colab.research.google.com/github/WideSu/CS608RecommendationSystem/blob/main/SKNN_Test.ipynb\" target=\"_parent\"><img src=\"https://colab.research.google.com/assets/colab-badge.svg\" alt=\"Open In Colab\"/></a>"
      ]
    },
    {
      "cell_type": "markdown",
      "source": [
        "# Load data"
      ],
      "metadata": {
        "id": "-BKUVdYATz1d"
      }
    },
    {
      "cell_type": "code",
      "source": [
        "from google.colab import drive\n",
        "drive.mount('/content/drive')\n",
        "%cd /content/drive/MyDrive/Github/SerenRec/\n",
        "data_dir = './data/'\n",
        "model_dir = './seren/model/'\n",
        "import pandas as pd\n",
        "train_data = pd.read_csv(data_dir+'train_data.csv')\n",
        "test_data = pd.read_csv(data_dir+'test_data.csv')\n",
        "# sys.path.append(\"./seren/data/\")\n",
        "from seren.data.Preprocess import *\n",
        "from seren.data.dataset import * "
      ],
      "metadata": {
        "colab": {
          "base_uri": "https://localhost:8080/"
        },
        "id": "dBA-ULC7Ty4M",
        "outputId": "530affb3-df26-402e-c506-2336ae54733a"
      },
      "execution_count": 1,
      "outputs": [
        {
          "output_type": "stream",
          "name": "stdout",
          "text": [
            "Drive already mounted at /content/drive; to attempt to forcibly remount, call drive.mount(\"/content/drive\", force_remount=True).\n",
            "/content/drive/MyDrive/Github/SerenRec\n"
          ]
        }
      ]
    },
    {
      "cell_type": "code",
      "source": [
        "preprocessor = Preprocess()\n",
        "train_seq = preprocessor.to_sequence(df = train_data)\n",
        "test_seq = preprocessor.to_sequence(df = test_data)"
      ],
      "metadata": {
        "colab": {
          "base_uri": "https://localhost:8080/"
        },
        "id": "3hD1dt--aRTX",
        "outputId": "115baaa1-c869-4927-9eff-6e87e33b0ab6"
      },
      "execution_count": 3,
      "outputs": [
        {
          "output_type": "stream",
          "name": "stderr",
          "text": [
            "/usr/local/lib/python3.7/dist-packages/pandas/core/frame.py:4913: SettingWithCopyWarning: \n",
            "A value is trying to be set on a copy of a slice from a DataFrame\n",
            "\n",
            "See the caveats in the documentation: https://pandas.pydata.org/pandas-docs/stable/user_guide/indexing.html#returning-a-view-versus-a-copy\n",
            "  errors=errors,\n"
          ]
        }
      ]
    },
    {
      "cell_type": "code",
      "source": [
        "train_seq"
      ],
      "metadata": {
        "colab": {
          "base_uri": "https://localhost:8080/",
          "height": 424
        },
        "id": "ihyY-TC4diNZ",
        "outputId": "ebaabd8e-602d-4a73-e93c-8d3c14126866"
      },
      "execution_count": 4,
      "outputs": [
        {
          "output_type": "execute_result",
          "data": {
            "text/plain": [
              "         ss_id                        sequence   next\n",
              "0            0                 [3, 0, 0, 0, 0]      4\n",
              "1            1                 [3, 4, 0, 0, 0]      4\n",
              "2            2                 [3, 4, 4, 0, 0]      5\n",
              "3            3                 [3, 4, 4, 5, 0]      6\n",
              "4            4                 [4, 0, 0, 0, 0]      4\n",
              "...        ...                             ...    ...\n",
              "460947  460947  [6715, 10063, 11215, 11417, 0]  11883\n",
              "460948  460948              [8455, 0, 0, 0, 0]   8068\n",
              "460949  460949           [8455, 8068, 0, 0, 0]   4309\n",
              "460950  460950        [8455, 8068, 4309, 0, 0]   7907\n",
              "460951  460951     [8455, 8068, 4309, 7907, 0]   1604\n",
              "\n",
              "[460952 rows x 3 columns]"
            ],
            "text/html": [
              "\n",
              "  <div id=\"df-b7a27ded-a184-43d7-985d-1be83441f0d0\">\n",
              "    <div class=\"colab-df-container\">\n",
              "      <div>\n",
              "<style scoped>\n",
              "    .dataframe tbody tr th:only-of-type {\n",
              "        vertical-align: middle;\n",
              "    }\n",
              "\n",
              "    .dataframe tbody tr th {\n",
              "        vertical-align: top;\n",
              "    }\n",
              "\n",
              "    .dataframe thead th {\n",
              "        text-align: right;\n",
              "    }\n",
              "</style>\n",
              "<table border=\"1\" class=\"dataframe\">\n",
              "  <thead>\n",
              "    <tr style=\"text-align: right;\">\n",
              "      <th></th>\n",
              "      <th>ss_id</th>\n",
              "      <th>sequence</th>\n",
              "      <th>next</th>\n",
              "    </tr>\n",
              "  </thead>\n",
              "  <tbody>\n",
              "    <tr>\n",
              "      <th>0</th>\n",
              "      <td>0</td>\n",
              "      <td>[3, 0, 0, 0, 0]</td>\n",
              "      <td>4</td>\n",
              "    </tr>\n",
              "    <tr>\n",
              "      <th>1</th>\n",
              "      <td>1</td>\n",
              "      <td>[3, 4, 0, 0, 0]</td>\n",
              "      <td>4</td>\n",
              "    </tr>\n",
              "    <tr>\n",
              "      <th>2</th>\n",
              "      <td>2</td>\n",
              "      <td>[3, 4, 4, 0, 0]</td>\n",
              "      <td>5</td>\n",
              "    </tr>\n",
              "    <tr>\n",
              "      <th>3</th>\n",
              "      <td>3</td>\n",
              "      <td>[3, 4, 4, 5, 0]</td>\n",
              "      <td>6</td>\n",
              "    </tr>\n",
              "    <tr>\n",
              "      <th>4</th>\n",
              "      <td>4</td>\n",
              "      <td>[4, 0, 0, 0, 0]</td>\n",
              "      <td>4</td>\n",
              "    </tr>\n",
              "    <tr>\n",
              "      <th>...</th>\n",
              "      <td>...</td>\n",
              "      <td>...</td>\n",
              "      <td>...</td>\n",
              "    </tr>\n",
              "    <tr>\n",
              "      <th>460947</th>\n",
              "      <td>460947</td>\n",
              "      <td>[6715, 10063, 11215, 11417, 0]</td>\n",
              "      <td>11883</td>\n",
              "    </tr>\n",
              "    <tr>\n",
              "      <th>460948</th>\n",
              "      <td>460948</td>\n",
              "      <td>[8455, 0, 0, 0, 0]</td>\n",
              "      <td>8068</td>\n",
              "    </tr>\n",
              "    <tr>\n",
              "      <th>460949</th>\n",
              "      <td>460949</td>\n",
              "      <td>[8455, 8068, 0, 0, 0]</td>\n",
              "      <td>4309</td>\n",
              "    </tr>\n",
              "    <tr>\n",
              "      <th>460950</th>\n",
              "      <td>460950</td>\n",
              "      <td>[8455, 8068, 4309, 0, 0]</td>\n",
              "      <td>7907</td>\n",
              "    </tr>\n",
              "    <tr>\n",
              "      <th>460951</th>\n",
              "      <td>460951</td>\n",
              "      <td>[8455, 8068, 4309, 7907, 0]</td>\n",
              "      <td>1604</td>\n",
              "    </tr>\n",
              "  </tbody>\n",
              "</table>\n",
              "<p>460952 rows × 3 columns</p>\n",
              "</div>\n",
              "      <button class=\"colab-df-convert\" onclick=\"convertToInteractive('df-b7a27ded-a184-43d7-985d-1be83441f0d0')\"\n",
              "              title=\"Convert this dataframe to an interactive table.\"\n",
              "              style=\"display:none;\">\n",
              "        \n",
              "  <svg xmlns=\"http://www.w3.org/2000/svg\" height=\"24px\"viewBox=\"0 0 24 24\"\n",
              "       width=\"24px\">\n",
              "    <path d=\"M0 0h24v24H0V0z\" fill=\"none\"/>\n",
              "    <path d=\"M18.56 5.44l.94 2.06.94-2.06 2.06-.94-2.06-.94-.94-2.06-.94 2.06-2.06.94zm-11 1L8.5 8.5l.94-2.06 2.06-.94-2.06-.94L8.5 2.5l-.94 2.06-2.06.94zm10 10l.94 2.06.94-2.06 2.06-.94-2.06-.94-.94-2.06-.94 2.06-2.06.94z\"/><path d=\"M17.41 7.96l-1.37-1.37c-.4-.4-.92-.59-1.43-.59-.52 0-1.04.2-1.43.59L10.3 9.45l-7.72 7.72c-.78.78-.78 2.05 0 2.83L4 21.41c.39.39.9.59 1.41.59.51 0 1.02-.2 1.41-.59l7.78-7.78 2.81-2.81c.8-.78.8-2.07 0-2.86zM5.41 20L4 18.59l7.72-7.72 1.47 1.35L5.41 20z\"/>\n",
              "  </svg>\n",
              "      </button>\n",
              "      \n",
              "  <style>\n",
              "    .colab-df-container {\n",
              "      display:flex;\n",
              "      flex-wrap:wrap;\n",
              "      gap: 12px;\n",
              "    }\n",
              "\n",
              "    .colab-df-convert {\n",
              "      background-color: #E8F0FE;\n",
              "      border: none;\n",
              "      border-radius: 50%;\n",
              "      cursor: pointer;\n",
              "      display: none;\n",
              "      fill: #1967D2;\n",
              "      height: 32px;\n",
              "      padding: 0 0 0 0;\n",
              "      width: 32px;\n",
              "    }\n",
              "\n",
              "    .colab-df-convert:hover {\n",
              "      background-color: #E2EBFA;\n",
              "      box-shadow: 0px 1px 2px rgba(60, 64, 67, 0.3), 0px 1px 3px 1px rgba(60, 64, 67, 0.15);\n",
              "      fill: #174EA6;\n",
              "    }\n",
              "\n",
              "    [theme=dark] .colab-df-convert {\n",
              "      background-color: #3B4455;\n",
              "      fill: #D2E3FC;\n",
              "    }\n",
              "\n",
              "    [theme=dark] .colab-df-convert:hover {\n",
              "      background-color: #434B5C;\n",
              "      box-shadow: 0px 1px 3px 1px rgba(0, 0, 0, 0.15);\n",
              "      filter: drop-shadow(0px 1px 2px rgba(0, 0, 0, 0.3));\n",
              "      fill: #FFFFFF;\n",
              "    }\n",
              "  </style>\n",
              "\n",
              "      <script>\n",
              "        const buttonEl =\n",
              "          document.querySelector('#df-b7a27ded-a184-43d7-985d-1be83441f0d0 button.colab-df-convert');\n",
              "        buttonEl.style.display =\n",
              "          google.colab.kernel.accessAllowed ? 'block' : 'none';\n",
              "\n",
              "        async function convertToInteractive(key) {\n",
              "          const element = document.querySelector('#df-b7a27ded-a184-43d7-985d-1be83441f0d0');\n",
              "          const dataTable =\n",
              "            await google.colab.kernel.invokeFunction('convertToInteractive',\n",
              "                                                     [key], {});\n",
              "          if (!dataTable) return;\n",
              "\n",
              "          const docLinkHtml = 'Like what you see? Visit the ' +\n",
              "            '<a target=\"_blank\" href=https://colab.research.google.com/notebooks/data_table.ipynb>data table notebook</a>'\n",
              "            + ' to learn more about interactive tables.';\n",
              "          element.innerHTML = '';\n",
              "          dataTable['output_type'] = 'display_data';\n",
              "          await google.colab.output.renderOutput(dataTable, element);\n",
              "          const docLink = document.createElement('div');\n",
              "          docLink.innerHTML = docLinkHtml;\n",
              "          element.appendChild(docLink);\n",
              "        }\n",
              "      </script>\n",
              "    </div>\n",
              "  </div>\n",
              "  "
            ]
          },
          "metadata": {},
          "execution_count": 4
        }
      ]
    },
    {
      "cell_type": "code",
      "source": [
        "train_dataset = SessionDataset(\n",
        "    seq_list = train_seq['sequence'], \n",
        "    next_list= train_seq['next'], sample_cnt=0,item_id_map = {11943: 0, 1: 1})"
      ],
      "metadata": {
        "id": "-Y4dk76Hb8A5"
      },
      "execution_count": 5,
      "outputs": []
    },
    {
      "cell_type": "code",
      "source": [
        "test_dataset = SessionDataset(\n",
        "    seq_list = test_seq['sequence'], \n",
        "    next_list= test_seq['next'], \n",
        "    sample_cnt=0,\n",
        "    item_id_map = {11943: 0, 1: 1})"
      ],
      "metadata": {
        "id": "jEfdcB2KfFcj"
      },
      "execution_count": 6,
      "outputs": []
    },
    {
      "cell_type": "code",
      "source": [
        "from torch.utils.data import DataLoader\n",
        "train_dataloader = DataLoader(train_data)\n",
        "test_dataloader = DataLoader(test_data)"
      ],
      "metadata": {
        "id": "_UaO7SPffefX"
      },
      "execution_count": 7,
      "outputs": []
    },
    {
      "cell_type": "code",
      "source": [
        ""
      ],
      "metadata": {
        "id": "spjbjAVGrNUZ"
      },
      "execution_count": 18,
      "outputs": []
    },
    {
      "cell_type": "code",
      "source": [
        "item_num = train_data['item_id'].nunique()\n",
        "session_num = len(train_seq)"
      ],
      "metadata": {
        "id": "2zt9zvNwrGbw"
      },
      "execution_count": 10,
      "outputs": []
    },
    {
      "cell_type": "code",
      "source": [
        "item_seq, next_item, _ = next(train_dataset.get_loader())"
      ],
      "metadata": {
        "id": "P1QcuuIUtAOZ"
      },
      "execution_count": 11,
      "outputs": []
    },
    {
      "cell_type": "code",
      "source": [
        "item_seq"
      ],
      "metadata": {
        "colab": {
          "base_uri": "https://localhost:8080/"
        },
        "id": "Ef4qaK_1vZ8m",
        "outputId": "8ef0846a-3a94-4ed9-885c-80079792778d"
      },
      "execution_count": 12,
      "outputs": [
        {
          "output_type": "execute_result",
          "data": {
            "text/plain": [
              "[3, 0, 0, 0, 0]"
            ]
          },
          "metadata": {},
          "execution_count": 12
        }
      ]
    },
    {
      "cell_type": "code",
      "source": [
        "'''\n",
        "@article{ludewig2018evaluation,\n",
        "  title={Evaluation of session-based recommendation algorithms},\n",
        "  author={Ludewig, Malte and Jannach, Dietmar},\n",
        "  journal={User Modeling and User-Adapted Interaction},\n",
        "  volume={28},\n",
        "  number={4},\n",
        "  pages={331--390},\n",
        "  year={2018},\n",
        "  publisher={Springer}\n",
        "}\n",
        "@inproceedings{sarwar2001item,\n",
        "  title={Item-based collaborative filtering recommendation algorithms},\n",
        "  author={Sarwar, Badrul and Karypis, George and Konstan, Joseph and Riedl, John},\n",
        "  booktitle={Proceedings of the 10th international conference on World Wide Web},\n",
        "  pages={285--295},\n",
        "  year={2001}\n",
        "}\n",
        "@inproceedings{aiolli2013efficient,\n",
        "  title={Efficient top-n recommendation for very large scale binary rated datasets},\n",
        "  author={Aiolli, Fabio},\n",
        "  booktitle={Proceedings of the 7th ACM conference on Recommender systems},\n",
        "  pages={273--280},\n",
        "  year={2013}\n",
        "}\n",
        "'''\n",
        "\n",
        "import numpy as np\n",
        "import scipy.sparse as sp\n",
        "from tqdm import tqdm\n",
        "\n",
        "class SKNN(object):\n",
        "    def __init__(self,config):\n",
        "        '''\n",
        "        SessionKNN Recommender, the similarity for session-based KNN can only be Jaccard,\n",
        "        Cosine similarity could be calculated if there are some duplicated items in one\n",
        "        session. Otherwise, Cosine is kind of similar to Jaccard\n",
        "\n",
        "        Parameters\n",
        "        -----------\n",
        "        k : int\n",
        "            Number of neighboring session to calculate the item scores from, default is 100.\n",
        "        asymmetric_alpha : float\n",
        "            When using asymmetric cosine similarity, it permits ad-hoc optimizations of the similarity function for the domain of interest, default is 0.5.\n",
        "        similarity : String\n",
        "            The function to use for calculating the similarity, default is 'jaccard'. \n",
        "        shrink : float\n",
        "            The value added to the similarity denominator which ensure that it != 0, default is 0.\n",
        "        normalize : bool\n",
        "            Whether to divide the dot product by the product of the norms, default is True.\n",
        "        item_num : int\n",
        "            The number of unique items in training set. \n",
        "        session_num : int\n",
        "            The number of sessions in the training set.\n",
        "        '''\n",
        "        self.k = config['k']\n",
        "        self.shrink = config['shrink'] \n",
        "        self.normalize = config['normalize'] \n",
        "        self.asymmetric_alpha = config['asymmetric_alpha']\n",
        "        self.similarity = config['similarity']\n",
        "\n",
        "        self.item_num = config['item_num']\n",
        "        self.session_num = config['session_num']\n",
        "\n",
        "        self.asymmetric_cosine = True if self.similarity == 'asymmetric' else False\n",
        "\n",
        "    def fit(self, train_loader):\n",
        "        '''\n",
        "        Training interface for KNN\n",
        "\n",
        "        Parameters\n",
        "        ----------\n",
        "        train_loader : generator\n",
        "            A generator to yied session list and corresponding next item one-by-one, such as [1,2,3,0,0], [4]\n",
        "        '''\n",
        "        current_session_idx = 0\n",
        "        self.train_matrix = sp.lil_matrix((self.session_num, self.item_num + 1))\n",
        "        \n",
        "        for item_seq, next_item, _ in train_loader:\n",
        "            # print(item_seq, next_item)\n",
        "            if current_session_idx > self.session_num:\n",
        "                print(f'More sessions than expected, current maximum number of recording session: {self.session_num}')\n",
        "                break\n",
        "            item_seq = item_seq + [next_item]\n",
        "            for c in item_seq:\n",
        "                if c != 0:\n",
        "                    self.train_matrix[current_session_idx, c] += 1       \n",
        "            current_session_idx += 1\n",
        "        self.train_matrix = self.train_matrix.tocsr()\n",
        "        self.binary_train_matrix = self.train_matrix.copy()\n",
        "        self.binary_train_matrix.data = np.ones_like(self.binary_train_matrix.data)\n",
        "\n",
        "    def predict(self, input_ids, next_item):\n",
        "        # TODO\n",
        "        sim_vec = self._compute_similarity(input_ids)\n",
        "        score = sim_vec.dot(self.binary_train_matrix[:, next_item]).A.squeeze() # (1, session_num) (session_num, 1) -> (1, 1)\n",
        "\n",
        "        return score.A[0]\n",
        "\n",
        "    def _compute_similarity(self, input_ids):\n",
        "        # TODO 先把rank里昨晚说过的部分提取到这, 然后再写predict\n",
        "        new_session = sp.lil_matrix((1, self.item_num + 1))\n",
        "        for c in input_ids:\n",
        "            if c != 0:\n",
        "                new_session[0, c] += 1\n",
        "        new_session = new_session.tocsr()\n",
        "        if self.similarity == 'jaccard':\n",
        "            binary_new_session = new_session.copy()\n",
        "            binary_new_session.data = np.ones_like(binary_new_session.data)\n",
        "            sim_vec = self._compute_jaccard(binary_new_session, self.binary_train_matrix)\n",
        "        else:\n",
        "            sim_vec = self._compute_cosine(new_session, self.train_matrix)\n",
        "\n",
        "        if self.normalize:\n",
        "            sim_vec = sim_vec / np.sum(sim_vec)\n",
        "\n",
        "        # K-NN for (session_num) array\n",
        "        top_k_idx = (-sim_vec).argpartition(self.k-1)[0:self.k]\n",
        "        mask = np.zeros_like(sim_vec)\n",
        "        mask[top_k_idx] = 1\n",
        "        sim_vec = sim_vec * mask\n",
        "        sim_vec = sp.csr_matrix(sim_vec)  # 1 * session_num\n",
        "\n",
        "        return sim_vec\n",
        "\n",
        "\n",
        "    def rank(self, test_loader, topk=50):\n",
        "        res_scs, res_ids = [], []\n",
        "        total_len = len(test_loader)\n",
        "        f = open('rank_res_sknn.csv','w')\n",
        "        for btch in tqdm(test_loader.get_loader(), total=total_len):\n",
        "            item_seq = btch[0]\n",
        "            sim_vec = self._compute_similarity(item_seq)\n",
        "            score = sim_vec.dot(self.binary_train_matrix).A.squeeze() # (1, session_num) (session_num, item_num) -> (1, item_num)\n",
        "            ids = np.argsort(score[1:])[::-1]\n",
        "            ids += 1\n",
        "            scs = score[ids]\n",
        "            if topk is not None and topk <= self.item_num:\n",
        "                ids, scs = ids[:topk], scs[:topk]\n",
        "\n",
        "            ids = [str(e) for e in ids]\n",
        "            scs = [f'{e:.4f}' for e in scs]\n",
        "            f.write(f'{\" \".join(ids)},{\" \".join(scs)}\\n')\n",
        "            f.flush()\n",
        "            res_ids.append(ids)\n",
        "            res_scs.append(scs)\n",
        "        return res_ids, res_scs\n",
        "\n",
        "    def _compute_cosine(self, session1, sessions):\n",
        "        '''\n",
        "        cosine similarity = \\frac{\\sum \\limits_{i \\in I(s1, s2)}count_{s_1,i} * count_{s_2,i}}{\\sqrt{\\sum \\limits_{i \\in I(s1, s2)}count_{s_1, i}^2}  \\sqrt{\\sum \\limits_{i \\in I(s1, s2)}count_{s_2, i}^2} } \n",
        "        '''\n",
        "        numerator = session1.dot(sessions.T).A.squeeze() # (1, item_num) (item_num, session_num) -> (1, session_num) -> (session_num,)\n",
        "        s1_norm = np.sqrt(session1.power(2).sum()) # single value\n",
        "        ss_norm = np.sqrt(sessions.power(2).sum(axis=1).A).reshape(-1)  # (session_num, 1) array -> (session_num,) array\n",
        "        if self.asymmetric_cosine:\n",
        "            s1_norm = np.power(s1_norm + self.shrink + 1e-6, 2 * self.asymmetric_alpha)\n",
        "            ss_norm = np.power(ss_norm + self.shrink + 1e-6, 2 * (1 - self.asymmetric_alpha))\n",
        "        denominator = s1_norm * ss_norm\n",
        "        sim = numerator / denominator\n",
        "\n",
        "        return sim\n",
        "\n",
        "    def _compute_jaccard(self, session1, sessions):\n",
        "        '''\n",
        "        jaccard similarity = \\frac{I_{s_1} \\cap I_{s_2}}{I_{s_1} \\cup I_{s_2}}\n",
        "        '''\n",
        "        nominator = session1.dot(self.binary_train_matrix.T).A.squeeze()\n",
        "        batch_sum = (sp.vstack([session1 for _ in range(self.session_num)]) + sessions)\n",
        "        batch_sum.data = np.ones_like(batch_sum.data)\n",
        "        denominator = batch_sum.sum(axis = 1).A.reshape(-1)\n",
        "        denominator = denominator + self.shrink + 1e-6\n",
        "        sim = nominator / denominator\n",
        "\n",
        "        return sim  \n",
        "\n",
        "# TODO sknn里的所有TODO都弄完后, 整理一下那个itemknn, 保证保留下的cosine, pearson, jaccard similarity代码逻辑和那个recsys2019的一致, 等我周日晚上弄完实习了再和你核对下\n",
        "            "
      ],
      "metadata": {
        "id": "RzZabdy47VLO"
      },
      "execution_count": 19,
      "outputs": []
    },
    {
      "cell_type": "code",
      "source": [
        "import sys, os\n",
        "# sys.path.append(\"./seren/model/\")\n",
        "# from seren.model.sknn import SKNN\n",
        "config = {\n",
        "    'asymmetric_alpha': 0.5,\n",
        "    'similarity': 'jaccard',\n",
        "    'k':50,\n",
        "    'shrink':0,\n",
        "    'normalize':True,\n",
        "    'asymmetric_cosine' : False,\n",
        "    'session_key' : 'session_id',\n",
        "    'item_key' : 'item_id',\n",
        "    'time_key' : 'time_id',\n",
        "    'item_num' : item_num,\n",
        "    'session_num' : session_num\n",
        "}\n",
        "sknn = SKNN(config)\n",
        "sknn.fit(train_dataset.get_loader())"
      ],
      "metadata": {
        "id": "ag_xay4mgAVw"
      },
      "execution_count": 20,
      "outputs": []
    },
    {
      "cell_type": "code",
      "source": [
        "test_dataset = SessionDataset(\n",
        "    seq_list = test_seq['sequence'], \n",
        "    next_list= test_seq['next'], \n",
        "    sample_cnt=0,\n",
        "    item_id_map = {11943: 0, 1: 1})"
      ],
      "metadata": {
        "id": "ujt77w5M1mdf"
      },
      "execution_count": 21,
      "outputs": []
    },
    {
      "cell_type": "code",
      "source": [
        "res_ids, res_scs = sknn.rank(test_dataset)"
      ],
      "metadata": {
        "colab": {
          "base_uri": "https://localhost:8080/"
        },
        "id": "Tv26D0PtyfQ6",
        "outputId": "4d4f8769-5189-4967-d786-dc7412b1ecf8"
      },
      "execution_count": null,
      "outputs": [
        {
          "output_type": "stream",
          "name": "stderr",
          "text": [
            "  0%|          | 11/20188 [01:08<34:59:56,  6.24s/it]"
          ]
        }
      ]
    },
    {
      "cell_type": "code",
      "source": [
        "res_ids"
      ],
      "metadata": {
        "colab": {
          "base_uri": "https://localhost:8080/"
        },
        "id": "WDA4Bz1i1dqq",
        "outputId": "577f2bbc-33d5-4ca2-97ab-2e9c65bb28fe"
      },
      "execution_count": 55,
      "outputs": [
        {
          "output_type": "execute_result",
          "data": {
            "text/plain": [
              "[]"
            ]
          },
          "metadata": {},
          "execution_count": 55
        }
      ]
    }
  ]
}